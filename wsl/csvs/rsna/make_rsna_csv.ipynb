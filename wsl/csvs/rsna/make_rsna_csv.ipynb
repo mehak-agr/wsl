{
 "cells": [
  {
   "cell_type": "code",
   "execution_count": 1,
   "metadata": {},
   "outputs": [],
   "source": [
    "import pandas as pd"
   ]
  },
  {
   "cell_type": "code",
   "execution_count": 2,
   "metadata": {},
   "outputs": [
    {
     "data": {
      "text/html": [
       "<div>\n",
       "<style scoped>\n",
       "    .dataframe tbody tr th:only-of-type {\n",
       "        vertical-align: middle;\n",
       "    }\n",
       "\n",
       "    .dataframe tbody tr th {\n",
       "        vertical-align: top;\n",
       "    }\n",
       "\n",
       "    .dataframe thead th {\n",
       "        text-align: right;\n",
       "    }\n",
       "</style>\n",
       "<table border=\"1\" class=\"dataframe\">\n",
       "  <thead>\n",
       "    <tr style=\"text-align: right;\">\n",
       "      <th></th>\n",
       "      <th>Id</th>\n",
       "      <th>Pneumonia</th>\n",
       "      <th>box</th>\n",
       "    </tr>\n",
       "  </thead>\n",
       "  <tbody>\n",
       "    <tr>\n",
       "      <th>0</th>\n",
       "      <td>0004cfab-14fd-4e49-80ba-63a80b6bddd6</td>\n",
       "      <td>0</td>\n",
       "      <td>[-1, -1, -1, -1]</td>\n",
       "    </tr>\n",
       "    <tr>\n",
       "      <th>1</th>\n",
       "      <td>00313ee0-9eaa-42f4-b0ab-c148ed3241cd</td>\n",
       "      <td>0</td>\n",
       "      <td>[-1, -1, -1, -1]</td>\n",
       "    </tr>\n",
       "    <tr>\n",
       "      <th>2</th>\n",
       "      <td>00322d4d-1c29-4943-afc9-b6754be640eb</td>\n",
       "      <td>0</td>\n",
       "      <td>[-1, -1, -1, -1]</td>\n",
       "    </tr>\n",
       "    <tr>\n",
       "      <th>3</th>\n",
       "      <td>003d8fa0-6bf1-40ed-b54c-ac657f8495c5</td>\n",
       "      <td>0</td>\n",
       "      <td>[-1, -1, -1, -1]</td>\n",
       "    </tr>\n",
       "    <tr>\n",
       "      <th>4</th>\n",
       "      <td>00436515-870c-4b36-a041-de91049b9ab4</td>\n",
       "      <td>1</td>\n",
       "      <td>[264, 152, 477, 531]</td>\n",
       "    </tr>\n",
       "    <tr>\n",
       "      <th>...</th>\n",
       "      <td>...</td>\n",
       "      <td>...</td>\n",
       "      <td>...</td>\n",
       "    </tr>\n",
       "    <tr>\n",
       "      <th>30222</th>\n",
       "      <td>c1ec14ff-f6d7-4b38-b0cb-fe07041cbdc8</td>\n",
       "      <td>1</td>\n",
       "      <td>[185, 298, 413, 677]</td>\n",
       "    </tr>\n",
       "    <tr>\n",
       "      <th>30223</th>\n",
       "      <td>c1edf42b-5958-47ff-a1e7-4f23d99583ba</td>\n",
       "      <td>0</td>\n",
       "      <td>[-1, -1, -1, -1]</td>\n",
       "    </tr>\n",
       "    <tr>\n",
       "      <th>30224</th>\n",
       "      <td>c1f6b555-2eb1-4231-98f6-50a963976431</td>\n",
       "      <td>0</td>\n",
       "      <td>[-1, -1, -1, -1]</td>\n",
       "    </tr>\n",
       "    <tr>\n",
       "      <th>30225</th>\n",
       "      <td>c1f7889a-9ea9-4acb-b64c-b737c929599a</td>\n",
       "      <td>1</td>\n",
       "      <td>[570, 393, 831, 738]</td>\n",
       "    </tr>\n",
       "    <tr>\n",
       "      <th>30226</th>\n",
       "      <td>c1f7889a-9ea9-4acb-b64c-b737c929599a</td>\n",
       "      <td>1</td>\n",
       "      <td>[233, 424, 434, 780]</td>\n",
       "    </tr>\n",
       "  </tbody>\n",
       "</table>\n",
       "<p>30227 rows × 3 columns</p>\n",
       "</div>"
      ],
      "text/plain": [
       "                                         Id  Pneumonia                   box\n",
       "0      0004cfab-14fd-4e49-80ba-63a80b6bddd6          0      [-1, -1, -1, -1]\n",
       "1      00313ee0-9eaa-42f4-b0ab-c148ed3241cd          0      [-1, -1, -1, -1]\n",
       "2      00322d4d-1c29-4943-afc9-b6754be640eb          0      [-1, -1, -1, -1]\n",
       "3      003d8fa0-6bf1-40ed-b54c-ac657f8495c5          0      [-1, -1, -1, -1]\n",
       "4      00436515-870c-4b36-a041-de91049b9ab4          1  [264, 152, 477, 531]\n",
       "...                                     ...        ...                   ...\n",
       "30222  c1ec14ff-f6d7-4b38-b0cb-fe07041cbdc8          1  [185, 298, 413, 677]\n",
       "30223  c1edf42b-5958-47ff-a1e7-4f23d99583ba          0      [-1, -1, -1, -1]\n",
       "30224  c1f6b555-2eb1-4231-98f6-50a963976431          0      [-1, -1, -1, -1]\n",
       "30225  c1f7889a-9ea9-4acb-b64c-b737c929599a          1  [570, 393, 831, 738]\n",
       "30226  c1f7889a-9ea9-4acb-b64c-b737c929599a          1  [233, 424, 434, 780]\n",
       "\n",
       "[30227 rows x 3 columns]"
      ]
     },
     "execution_count": 2,
     "metadata": {},
     "output_type": "execute_result"
    }
   ],
   "source": [
    "df = pd.read_csv('original.csv')\n",
    "df = df.fillna(0)\n",
    "df['x2'] = df.apply(lambda row: row['width'] + row['x'], axis=1)\n",
    "df['y2'] = df.apply(lambda row: row['height'] + row['y'], axis=1)\n",
    "df['box'] = df.apply(lambda row: [int(row['x']), int(row['y']), int(row['x2']), int(row['y2'])] if row['Target'] == 1 else [-1, -1, -1, -1], axis=1)\n",
    "df = df[['Id', 'Target', 'box']]\n",
    "df.columns = ['Id', 'pneumonia', 'box']\n",
    "df"
   ]
  },
  {
   "cell_type": "code",
   "execution_count": 3,
   "metadata": {},
   "outputs": [],
   "source": [
    "df.to_csv('info.csv', index=False)"
   ]
  },
  {
   "cell_type": "code",
   "execution_count": null,
   "metadata": {},
   "outputs": [],
   "source": []
  }
 ],
 "metadata": {
  "kernelspec": {
   "display_name": "Python 3",
   "language": "python",
   "name": "python3"
  },
  "language_info": {
   "codemirror_mode": {
    "name": "ipython",
    "version": 3
   },
   "file_extension": ".py",
   "mimetype": "text/x-python",
   "name": "python",
   "nbconvert_exporter": "python",
   "pygments_lexer": "ipython3",
   "version": "3.6.9"
  }
 },
 "nbformat": 4,
 "nbformat_minor": 4
}
